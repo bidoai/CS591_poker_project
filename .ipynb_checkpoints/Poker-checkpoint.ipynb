{
 "cells": [
  {
   "cell_type": "markdown",
   "metadata": {},
   "source": [
    "## Rough breakdown of things I will need to do:\n",
    "\n",
    "### Data structure for cards: DONE\n",
    "1D array: [0,1,2,3,4,5,6,...,50,51] <br/>\n",
    "For i in this array, use i // 13 (integer division) to get card set, i % 13 (mod) to get card number DONE <br/>\n",
    "Remember that 0-11 is 2 to Ace (0 is Two, 11 is Ace), only special case to think of is A2345 is the smallest straight \n",
    "\n",
    "### Need to write function that takes a players cards + cards on the board, and return the combination of five (think seperately for the turn and the river) cards that gives the most value (Also say what cards [give them a rank], ex: a pair, or trips etc.) DONE\n",
    "Remember that these combinations have to include the player's own cards.\n",
    "\n",
    "###### Write helper function to return all 5 choose 3 combinations of cards on board, combine them with your own cards DONE\n",
    "###### Write helper functions to recognize pairs, two pairs, ..., royal flushes DONE\n",
    "###### Write helper function to return highest score/rank of 5 cards. DONE\n",
    "###### Write helper function that compares two hands, and returns the winner DONE\n",
    "Compare all hands, and return the hand that gives the highest value DONE\n",
    "\n",
    "### Need to write function that takes your cards and the cards on the board, and calculate the probability that your opponent has better cards than you. DONE\n",
    "Need to think of seperate cases: preflop, postflop, turn, river\n",
    " ##### Pre flop:\n",
    "    To calculate probabilities:\n",
    "        compare your cards with all remaining 50 choose 2 combinations \n",
    " ##### flop:\n",
    "    To calculate probability:\n",
    "        compare your cards (2 cards in hand + 3 cards on board) with opponents hand (3 cards on board + 47 choose 2)\n",
    " ##### Turn;\n",
    "    To calculate probability:\n",
    "        compare your cards (2 cards in hand + 4 choose 3 on board) with opponents hand (4 choose 3 on board + 46 choose 2)\n",
    " ##### River \n",
    "    To calculate probability:\n",
    "        you cards (2 in hand + 5 choose 3) opponent's cards (5 choose 3 on board + 45 choose 2)\n",
    "\n",
    "#### After figuring out probabilities (hard part, need to think of all cases, test thoroughly) calculate expected value ( pot size x prob win). \n",
    "\n",
    "## Think of the procedure of the game\n",
    "\n",
    "#### You play first\n",
    "Calculate prob you win. If prob win is high (decide some threshold), bet for value ( maybe with some prob as well ) if prob win is very low, can choose to bluff. Else, check. \n",
    "#### You play second \n",
    "###### a) P1 checks to you.\n",
    "    Play according to how you would play first \n",
    "###### b) P1 bets/raises you\n",
    "    Figure out the prob you win, and subsequently the expected value. If bet size < EV or prob win is high, choose to call. Also define mechanisms to raise back.\n",
    "\n",
    "## Think of various strategies that can be implemented:\n",
    "\n",
    "#### 1. Bluffing\n",
    "In some situations you will get a bad hand and the only way to win is to bluff your opponent. \n",
    "    If prob winning is low (say below some threshold that may depend on a risk aversiveness parameter input by user):\n",
    "        Bluff with higher chance (Generate random number between 0 and 1, if number > 0.5, then bluff [exact number to         be adjusted])\n",
    "    If prob winning is medium, bluff with medium chance\n",
    "    If prob win is high, bluff with lower chance\n",
    "\n",
    "#### 2. Betting for value\n",
    "Sometimes you have a decent but not too strong hand (say ace high or one pair), and your opponent may be waiting on a striaght or flush draw. Since you don't want to give them a free card, you place a bet hoping to just win the pot right there.\n",
    "\n",
    "   If prob winning is low, you probably have a weak hand and just want to see free cards. Then define prob of betting    for value to be low.\n",
    "   If prob winning is medium, you have a decent hand, so unless your opponent has (or potentially has) a monster hand,    you will probably win. Then define prob bet for value to be higher\n",
    "\n",
    "#### 3. Trapping\n",
    "Sometimes you may have an extremely good hand (pocket aces for example) and you want to conceal the strength of your hand, so you choose not to bet too much (or at all) to keep your opponent on the hook\n",
    "\n",
    "#### 4. All in\n",
    "When you have a low stack, you are more willing to go all in (in a heads up situation), i.e the wider the range of hands you are willing to shove.\n",
    "    If stack_size is low (below certain number of big blinds):\n",
    "        Even if prob winning isn't to high, you are still willing to go all in.\n",
    "\n",
    "## Think of risk parameter of a player\n",
    "Give the A.I player a risk parameter $\\alpha$. The higher $\\alpha$ is, the more likely player is willing to take risks (call, bet, and bluff).\n",
    "#### Write helper function that takes $\\alpha$, and calculates a prob winning threshold p($\\alpha$) so that when your prob winning > p($\\alpha$), you are more likely to bet (this decision still needs to be random), and vice versa.\n",
    "#### Side note, increase a players willingness to take risk the later into the game it gets (preflop, flop, turn, river). This is reasonable since later in the game players have already committed money into the pot and therefore are more willing to see it through. \n",
    "\n",
    "# Remember to take advantage of computers ability to play randomly!!!  \n"
   ]
  },
  {
   "cell_type": "code",
   "execution_count": 10,
   "metadata": {
    "collapsed": true
   },
   "outputs": [],
   "source": [
    "import random\n",
    "cards = list(range(52))\n",
    "\n",
    "# Map set of cards to integers. Define map as Clubs: 0, Diamonds: 1, Hearts: 2, Spades: 3.\n",
    "def Set(card):\n",
    "    if card <= 12:\n",
    "        return 0\n",
    "    elif card <= 25:\n",
    "        return 1\n",
    "    elif card <= 38:\n",
    "        return 2\n",
    "    else:\n",
    "        return 3\n",
    "\n",
    "# Maps the cards to numbers 0 - 12, where 0 is 1,..., 11 is King, 12 is Ace\n",
    "def Number(card):\n",
    "    return card % 13\n",
    "\n",
    "\n",
    "def English(card):\n",
    "    # takes an integer representing a card and tells you what suit and number it is\n",
    "    cards = [\"Two\", \"Three\", \"Four\", \"Five\", \"Six\", \"Seven\", \"Eight\", \"Nine\", \"Ten\"\n",
    "            , \"Jack\", \"Queen\", \"King\", \"Ace\"]\n",
    "    if Set(card) == 0:\n",
    "        return cards[Number(card)] + \" of Clubs\"\n",
    "    elif Set(card) == 1:\n",
    "        return cards[Number(card)] + \" of Diamonds\"\n",
    "    elif Set(card) == 2:\n",
    "        return cards[Number(card)] + \" of Hearts\"\n",
    "    else:\n",
    "        return cards[Number(card)] + \" of Spades\"\n",
    "def EnglishHand(cards):\n",
    "    # param cards: a list of cards\n",
    "    # output: prints out the English of each card\n",
    "    for card in cards:\n",
    "        print(English(card))"
   ]
  },
  {
   "cell_type": "code",
   "execution_count": 11,
   "metadata": {
    "collapsed": true
   },
   "outputs": [],
   "source": [
    "def RoyalFlush(cards):\n",
    "    \n",
    "    numbers = []\n",
    "    for card in cards:\n",
    "        numbers += [Number(card)]\n",
    "    set_numbers = set(numbers)\n",
    "    #print(set_numbers)\n",
    "    #print(len(set_numbers))\n",
    "    #print(max(set_numbers))\n",
    "    #print(min(set_numbers))\n",
    "    if len(set_numbers) == 5 and max(set_numbers) == 12 and min(set_numbers) == 8:\n",
    "        #print(\"I was here!!!\")\n",
    "        if Flush(cards):\n",
    "            return True\n",
    "    return False"
   ]
  },
  {
   "cell_type": "code",
   "execution_count": 12,
   "metadata": {
    "collapsed": true
   },
   "outputs": [],
   "source": [
    "def StraightFlush(cards):\n",
    "    number_cards = [Number(card) for card in cards]\n",
    "    set_cards = set(number_cards)\n",
    "    straights = [{12,0,1,2,3},{0,1,2,3,4}, {1,2,3,4,5}, {2,3,4,5,6}, {3,4,5,6,7}, {4,5,6,7,8}, {5,6,7,8,9}, {6,7,8,9,10}, {7,8,9,10,11}\n",
    "                , {8,9,10,11,12}]\n",
    "    if Flush(cards)[0]:\n",
    "        for i in range(len(straights)):\n",
    "            if set_cards == straights[i]:\n",
    "                return True, i\n",
    "    return False, 14\n",
    "        "
   ]
  },
  {
   "cell_type": "code",
   "execution_count": 15,
   "metadata": {
    "collapsed": true
   },
   "outputs": [],
   "source": [
    "def FourKind(cards):\n",
    "    numbers = [0 for i in range(13)]\n",
    "    four_card = [14,14]\n",
    "    for card in cards:\n",
    "        numbers[Number(card)] += 1\n",
    "    for i in range(len(numbers)):\n",
    "        if numbers[i] == 4:\n",
    "            four_card[0] = i\n",
    "        if numbers[i] == 1:\n",
    "            four_card[1] = i\n",
    "    return four_card[0] != 14, four_card"
   ]
  },
  {
   "cell_type": "code",
   "execution_count": 16,
   "metadata": {
    "collapsed": true
   },
   "outputs": [],
   "source": [
    "def FullHouse(cards):\n",
    "    numbers = [0 for i in range(13)]\n",
    "    set_pair = [14,14]\n",
    "    for card in cards:\n",
    "        numbers[Number(card)] += 1\n",
    "    for i in range(len(numbers)):\n",
    "        if numbers[i] == 3:\n",
    "            set_pair[0] = i\n",
    "        if numbers[i] == 2:\n",
    "            set_pair[1] = i\n",
    "    # print(set_pair)\n",
    "    if 14 not in set_pair:\n",
    "        return True, set_pair\n",
    "    else:\n",
    "        return False, 0"
   ]
  },
  {
   "cell_type": "code",
   "execution_count": 17,
   "metadata": {
    "collapsed": true
   },
   "outputs": [],
   "source": [
    "def Flush(cards):\n",
    "    sets = [0,0,0,0]\n",
    "    for card in cards:\n",
    "        sets[Set(card)] += 1\n",
    "        #print(sets)\n",
    "    numbers = [Number(card) for card in cards]\n",
    "    return max(sets) == 5, sorted(numbers)[-1::-1]"
   ]
  },
  {
   "cell_type": "code",
   "execution_count": 18,
   "metadata": {
    "collapsed": true
   },
   "outputs": [],
   "source": [
    "# I don't think Ace is being counted as 1 and 13 over here.\n",
    "def Straight(cards):\n",
    "    number_cards = [Number(card) for card in cards]\n",
    "    set_cards = set(number_cards)\n",
    "    straights = [{12,0,1,2,3},{0,1,2,3,4}, {1,2,3,4,5}, {2,3,4,5,6}, {3,4,5,6,7}, {4,5,6,7,8}, {5,6,7,8,9}, {6,7,8,9,10}, {7,8,9,10,11}\n",
    "                , {8,9,10,11,12}]\n",
    "    for i in range(len(straights)):\n",
    "        if set_cards == straights[i]:\n",
    "            return True, i\n",
    "    return False, set_cards\n",
    "        \n",
    "        "
   ]
  },
  {
   "cell_type": "code",
   "execution_count": 19,
   "metadata": {
    "collapsed": true
   },
   "outputs": [],
   "source": [
    "def ThreeKind(cards):\n",
    "    numbers = [0 for i in range(13)]\n",
    "    for card in cards:\n",
    "        numbers[Number(card)] += 1\n",
    "    set_card_card = [14,14,14]\n",
    "    temp = 14\n",
    "    for i in range(len(numbers)):\n",
    "        if numbers[i] == 3:\n",
    "            set_card_card[0] = i\n",
    "        elif numbers[i] == 1:\n",
    "            if temp == 14:\n",
    "                temp = i\n",
    "            else:\n",
    "                set_card_card[1] = max(temp, i)\n",
    "                set_card_card[2] = min(temp, i)\n",
    "    if 14 not in set_card_card:\n",
    "        return True, set_card_card\n",
    "    else:\n",
    "        return False, 0\n",
    "            "
   ]
  },
  {
   "cell_type": "code",
   "execution_count": 20,
   "metadata": {
    "collapsed": true
   },
   "outputs": [],
   "source": [
    "def TwoPair(cards):\n",
    "    numbers = [0 for i in range(13)]\n",
    "    for card in cards:\n",
    "        numbers[Number(card)] += 1\n",
    "    pair_pair_card = [14,14,14]\n",
    "    temp = 14\n",
    "    for i in range(len(numbers)):\n",
    "        if numbers[i] == 2:\n",
    "            if temp == 14:\n",
    "                temp = i\n",
    "            else:\n",
    "                pair_pair_card[0] = max(temp, i)\n",
    "                pair_pair_card[1] = min(temp, i)\n",
    "        if numbers[i] == 1:\n",
    "            pair_pair_card[2] = i\n",
    "    if 14 not in pair_pair_card:\n",
    "        return True, pair_pair_card\n",
    "    else:\n",
    "        return False, 0\n"
   ]
  },
  {
   "cell_type": "code",
   "execution_count": 21,
   "metadata": {
    "collapsed": true
   },
   "outputs": [],
   "source": [
    "def Pair(cards):\n",
    "    numbers = [0 for i in range(13)]\n",
    "    for card in cards:\n",
    "        numbers[Number(card)] += 1\n",
    "    pair_card_card_card = [14,14,14,14]\n",
    "    temp0 = 14\n",
    "    temp1 = 14\n",
    "    for i in range(len(numbers)):\n",
    "        if numbers[i] == 2:\n",
    "            pair_card_card_card[0] = i\n",
    "        if numbers[i] == 1:\n",
    "            if temp0 == 14:\n",
    "                temp0 = i\n",
    "            elif temp1 == 14:\n",
    "                temp1 = i\n",
    "            else:\n",
    "                singles = sorted([temp0, temp1, i])\n",
    "                pair_card_card_card[1] = singles[-1]\n",
    "                pair_card_card_card[2] = singles[1]\n",
    "                pair_card_card_card[3] = singles[0]\n",
    "    if 14 not in pair_card_card_card:\n",
    "        return True, pair_card_card_card\n",
    "    else:\n",
    "        return False, 0\n",
    "        "
   ]
  },
  {
   "cell_type": "code",
   "execution_count": 22,
   "metadata": {
    "collapsed": true
   },
   "outputs": [],
   "source": [
    "# Function that reads a sequence of 5 cards, and returns the rank\n",
    "# Royal flush: 9, Straight flush: 8,..., high card: 0 \n",
    "def Rank(cards):\n",
    "    \n",
    "    if RoyalFlush(cards):\n",
    "        return 9\n",
    "    elif StraightFlush(cards)[0]:\n",
    "        return 8, StraightFlush(cards)[1]\n",
    "    elif FourKind(cards)[0]:\n",
    "        return 7, FourKind(cards)[1]\n",
    "    elif FullHouse(cards)[0]:\n",
    "        return 6, FullHouse(cards)[1]\n",
    "    elif Flush(cards)[0]:\n",
    "        return 5, Flush(cards)[1]\n",
    "    elif Straight(cards)[0]:\n",
    "        return 4, Straight(cards)[1]\n",
    "    elif ThreeKind(cards)[0]:\n",
    "        return 3, ThreeKind(cards)[1]\n",
    "    elif TwoPair(cards)[0]:\n",
    "        return 2, TwoPair(cards)[1]\n",
    "    elif Pair(cards)[0]:\n",
    "        return 1, Pair(cards)[1]\n",
    "    else:\n",
    "        numbers = [Number(card) for card in cards]\n",
    "        return 0, sorted(numbers)[-1::-1]"
   ]
  },
  {
   "cell_type": "code",
   "execution_count": 23,
   "metadata": {
    "collapsed": true
   },
   "outputs": [],
   "source": [
    "def InterpretRank(rank):\n",
    "    # takes input the rank of a combination of cards, and prints\n",
    "    # out in English what hand you have\n",
    "    if rank[0] == 9:\n",
    "        print(\"Royal Flush\")\n",
    "    elif rank[0] == 8:\n",
    "        print(\"Straight Flush: \" + str(rank[1]))\n",
    "    elif rank[0] == 7:\n",
    "        print(\"Four of a Kind: \" + str(rank[1]))\n",
    "    elif rank[0] == 6:\n",
    "        print(\"Full House: \" + str(rank[1]))\n",
    "    elif rank[0] == 5:\n",
    "        print(\"Flush: \" + str(rank[1]))\n",
    "    elif rank[0] == 4:\n",
    "        print(\"Straight: \" + str(rank[1]))\n",
    "    elif rank[0] == 3:\n",
    "        print(\"Three of a Kind: \" + str(rank[1]))\n",
    "    elif rank[0] == 2:\n",
    "        print(\"Two pair: \" + str(rank[1]))\n",
    "    elif rank[0] == 1:\n",
    "        print(\"One pair: \" + str(rank[1]))\n",
    "    else:\n",
    "        print(\"High Card: \" + str(rank[1]))"
   ]
  },
  {
   "cell_type": "code",
   "execution_count": 24,
   "metadata": {
    "collapsed": true
   },
   "outputs": [],
   "source": [
    "def Compare(cards1, cards2):\n",
    "    # Returns True if cards1 rank higher than cards2 and False otherwise.\n",
    "    rank1 = Rank(cards1)\n",
    "    rank2 = Rank(cards2)\n",
    "    if rank1[0] > rank2[0]:\n",
    "        return True\n",
    "    elif rank1[0] < rank2[0]:\n",
    "        return False\n",
    "    else: \n",
    "        # Case where both cards have the same rank (ex: same pair) and need to compare remaining cards.\n",
    "        # This part needs to be finished\n",
    "        if rank1[0] in [0,1,2,3,5,6,7]:\n",
    "            # Both players only have a high card\n",
    "            return CompHighCard(rank1[1], rank2[1])\n",
    "        elif rank1[0] in [4,8]:\n",
    "            if rank1[1] > rank2[1]:\n",
    "                return True\n",
    "            elif rank1[1] < rank2[1]:\n",
    "                return False\n",
    "            else:\n",
    "                return \"Draw\"\n",
    "            # both players have a straight or straight flush\n",
    "        elif rank1[0] == 9:\n",
    "            # both players have a royal flush lol\n",
    "            return \"Draw\"\n",
    "        \n",
    "            \n",
    "        return 0"
   ]
  },
  {
   "cell_type": "code",
   "execution_count": 25,
   "metadata": {
    "collapsed": true
   },
   "outputs": [],
   "source": [
    "def CompHighCard(x1, x2):\n",
    "    # compares two hands that are both rank 0\n",
    "    for i in range(len(x1)):\n",
    "        if Number(x1[i]) > Number(x2[i]):\n",
    "            return True\n",
    "        elif Number(x1[i]) < Number(x2[i]):\n",
    "            return False\n",
    "    return \"Draw\"\n"
   ]
  },
  {
   "cell_type": "code",
   "execution_count": 59,
   "metadata": {
    "collapsed": true
   },
   "outputs": [],
   "source": [
    "from itertools import combinations as comb\n",
    "def AllCombs(hand, board):\n",
    "    # returns a list of all combinations of your hand (2 cards) + the board (3 cards)\n",
    "    # only really need to think of turn and river\n",
    "    if len(board) == 0:\n",
    "        return hand\n",
    "    elif len(board) == 3:\n",
    "        return hand + board\n",
    "    elif len(board) >= 4:\n",
    "        temp = comb(board, 3)\n",
    "        temp_results = []\n",
    "        for combo in temp:\n",
    "            temp_results += [list(hand) + list(combo)]\n",
    "        return temp_results\n",
    "            \n",
    "        "
   ]
  },
  {
   "cell_type": "code",
   "execution_count": 27,
   "metadata": {
    "collapsed": true
   },
   "outputs": [],
   "source": [
    "def BestHand(hand, board):\n",
    "    all_hands = AllCombs(hand, board)\n",
    "    temp = all_hands[0]\n",
    "    for i in range(1, len(all_hands)):\n",
    "        if Compare(all_hands[i], temp):\n",
    "            temp = all_hands[i]\n",
    "    return temp"
   ]
  },
  {
   "cell_type": "code",
   "execution_count": 69,
   "metadata": {},
   "outputs": [
    {
     "name": "stdout",
     "output_type": "stream",
     "text": [
      "[29, 31]\n",
      "[27, 26, 44, 36, 8]\n"
     ]
    }
   ],
   "source": [
    "board_hand = random.sample(cards, 7)\n",
    "hand = board_hand[:2]\n",
    "board = board_hand[2:]\n",
    "print(hand)\n",
    "print(board)\n",
    " "
   ]
  },
  {
   "cell_type": "code",
   "execution_count": 70,
   "metadata": {},
   "outputs": [
    {
     "name": "stdout",
     "output_type": "stream",
     "text": [
      "Five of Hearts\n",
      "Seven of Hearts\n",
      "---------------\n",
      "Three of Hearts\n",
      "Two of Hearts\n",
      "Seven of Spades\n",
      "Queen of Hearts\n",
      "Ten of Clubs\n"
     ]
    }
   ],
   "source": [
    "EnglishHand(hand)\n",
    "print(\"---------------\")\n",
    "EnglishHand(board)"
   ]
  },
  {
   "cell_type": "code",
   "execution_count": 71,
   "metadata": {},
   "outputs": [
    {
     "name": "stdout",
     "output_type": "stream",
     "text": [
      "Flush: [10, 5, 3, 1, 0]\n"
     ]
    }
   ],
   "source": [
    "x = BestHand(hand, board)\n",
    "x_rank = Rank(x)\n",
    "InterpretRank(x_rank)"
   ]
  },
  {
   "cell_type": "code",
   "execution_count": 87,
   "metadata": {},
   "outputs": [
    {
     "data": {
      "text/plain": [
       "'Draw'"
      ]
     },
     "execution_count": 87,
     "metadata": {},
     "output_type": "execute_result"
    }
   ],
   "source": [
    "temp = [3,5,1,0,10]\n",
    "Rank(temp)\n",
    "Compare(temp, x)"
   ]
  },
  {
   "cell_type": "code",
   "execution_count": 86,
   "metadata": {},
   "outputs": [
    {
     "name": "stdout",
     "output_type": "stream",
     "text": [
      "Five of Hearts\n",
      "Seven of Hearts\n",
      "Three of Hearts\n",
      "Two of Hearts\n",
      "Queen of Hearts\n"
     ]
    }
   ],
   "source": [
    "EnglishHand(x)"
   ]
  },
  {
   "cell_type": "code",
   "execution_count": 98,
   "metadata": {},
   "outputs": [
    {
     "name": "stdout",
     "output_type": "stream",
     "text": [
      "Six of Spades\n",
      "Six of Hearts\n"
     ]
    }
   ],
   "source": [
    "hand = random.sample(cards, 2)\n",
    "board = []\n",
    "EnglishHand(hand)"
   ]
  },
  {
   "cell_type": "code",
   "execution_count": 104,
   "metadata": {},
   "outputs": [
    {
     "data": {
      "text/plain": [
       "0.12489795918367347"
      ]
     },
     "execution_count": 104,
     "metadata": {},
     "output_type": "execute_result"
    }
   ],
   "source": [
    "ProbWin(hand, board)"
   ]
  },
  {
   "cell_type": "code",
   "execution_count": 105,
   "metadata": {},
   "outputs": [
    {
     "data": {
      "text/plain": [
       "(0, [4, 4])"
      ]
     },
     "execution_count": 105,
     "metadata": {},
     "output_type": "execute_result"
    }
   ],
   "source": [
    "Rank(hand)"
   ]
  },
  {
   "cell_type": "code",
   "execution_count": 57,
   "metadata": {
    "collapsed": true
   },
   "outputs": [],
   "source": [
    "def ProbWin(hand, board):\n",
    "    # Takes the players hand, and the cards on the board, and returns the probability that player wins as is.\n",
    "    cards = list(range(52))\n",
    "    if len(board) == 0:\n",
    "        for card in hand:\n",
    "            cards.remove(card)\n",
    "        remaining_hands = comb(cards, 2)\n",
    "        wins = 0\n",
    "        losses = 0\n",
    "        for temp in remaining_hands:\n",
    "            if Compare(hand, temp):\n",
    "                wins += 1\n",
    "            else:\n",
    "                losses += 1\n",
    "        prob_win = wins / (wins + losses)\n",
    "        return prob_win\n",
    "    else:\n",
    "        best_hand = BestHand(hand, board)\n",
    "        for card in hand:\n",
    "            cards.remove(card)\n",
    "        for card in board:\n",
    "            cards.remove(card)\n",
    "        opponent_hands = comb(cards, 2)\n",
    "        wins = 0\n",
    "        losses = 0\n",
    "        \n",
    "        for temp in opponent_hands:\n",
    "            opp_best = BestHand(temp, board)\n",
    "            if Compare(best_hand, opp_best):\n",
    "                wins += 1\n",
    "            else:\n",
    "                losses += 1\n",
    "        prob_win = wins / (wins + losses)\n",
    "        return prob_win\n",
    "        \n",
    "        "
   ]
  }
 ],
 "metadata": {
  "kernelspec": {
   "display_name": "Python 3",
   "language": "python",
   "name": "python3"
  },
  "language_info": {
   "codemirror_mode": {
    "name": "ipython",
    "version": 3
   },
   "file_extension": ".py",
   "mimetype": "text/x-python",
   "name": "python",
   "nbconvert_exporter": "python",
   "pygments_lexer": "ipython3",
   "version": "3.6.1"
  }
 },
 "nbformat": 4,
 "nbformat_minor": 2
}
