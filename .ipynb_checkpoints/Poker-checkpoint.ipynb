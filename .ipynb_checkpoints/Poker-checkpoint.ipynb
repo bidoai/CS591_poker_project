{
 "cells": [
  {
   "cell_type": "markdown",
   "metadata": {},
   "source": [
    "## Rough breakdown of things I will need to do:\n",
    "\n",
    "### Data structure for cards: DONE\n",
    "1D array: [1,2,3,4,5,6,...,50,51,52] <br/>\n",
    "For i in this array, use i // 13 (integer division) to get card set, i % 13 (mod) to get card number \n",
    "\n",
    "### Need to write function that takes a players cards + cards on the board, and return the combination of five (think seperately for the turn and the river) cards that gives the most value (Also say what cards, ex: a pair, or trips etc.)\n",
    "Remember that these combinations have to include the player's own cards.\n",
    "\n",
    "###### Write helper function to return all 5 choose 3 combinations of cards on board, combine them with your own cards\n",
    "###### Write helper functions to recognize pairs, two pairs, ..., royal flushes DONE\n",
    "###### Write helper function to return highest score/rank of 5 cards.\n",
    "###### Write helper function that compares two hands, and returns the winner\n",
    "Compare all hands, adn return the hand that gives the highest value\n",
    "\n",
    "### Need to write function that takes your cards and the cards on the board, and calculate the probability that your opponent has better cards than you.\n",
    "Need to think of seperate cases: preflop, postflop, turn, river\n",
    " ##### Pre flop:\n",
    "    To calculate probabilities:\n",
    "        compare your cards with all remaining 50 choose 2 combinations \n",
    " ##### Post flop:\n",
    "    To calculate probability:\n",
    "        compare your cards (2 cards in hand + 3 cards on board) with opponents hand (3 cards on board)\n",
    " ##### Turn;\n",
    "    To calculate probability:\n",
    "        compare your cards (2 cards in hand + 4 choose 3 on board) with \n",
    "\n",
    "After figuring out probabilities (hard part, need to think of all cases, test thoroughly) calculate expected value ( pot size x prob win). \n",
    "\n",
    "Think of different cases.\n",
    "\n",
    "You play first<br/>\n",
    "Calculate prob you win. If prob win is high (decide some threshold), bet for value ( maybe with some prob as well ) if prob win is very low, can choose to bluff. Else, check. <br/>\n",
    "You play second <br/>\n",
    "        2a) P1 checked to you <br/>\n",
    "Play according to how you would play first <br/>\n",
    "        2b) P1 bets/raises you<br/>\n",
    "Figure out the prob you win, and subsequently the expected value. If bet size < EV or prob win is high, choose to call. Also define mechanisms to raise back.\n",
    "Remember to take advantage of computers ability to play randomly.  \n",
    "\n",
    "## Think of various strategies that can be implemented:\n",
    "\n",
    "#### 1. Bluffing\n",
    "In some situations you will get a bad hand and the only way to win is to bluff your opponent. \n",
    "    If prob winning is low (say below some threshold that may depend on a risk aversiveness parameter input by user):\n",
    "        Bluff with higher chance (Generate random number between 0 and 1, if number > 0.5, then bluff [exact number to         be adjusted])\n",
    "    If prob winning is medium, bluff with medium chance\n",
    "    If prob win is high, bluff with lower chance\n",
    "#### 2. Betting for value\n",
    "Sometimes you have a decent but not too strong hand (say ace high or one pair), and your opponent may be waiting on a striaght or flush draw. Since you don't want to give them a free card, you place a bet hoping to just win the pot right there.\n",
    "\n",
    "   If prob winning is low, you probably have a weak hand and just want to see free cards. Then define prob of betting    for value to be low.\n",
    "   If prob winning is medium, you have a decent hand, so unless your opponent has (or potentially has) a monster hand,    you will probably win. Then define prob bet for value to be higher\n",
    "\n",
    "#### 3. Trapping\n",
    "Sometimes you may have an extremely good hand (pocket aces for example) and you want to conceal the strength of your hand, so you choose not to bet too much (or at all) to keep your opponent on the hook\n",
    "\n",
    "## Think of risk paramater of a player\n",
    "#### Side note, increase a players willingness to take risk the later into the game it gets (preflop, flop, turn, river). This is reasonable since later in the game players have already committed money into the pot and therefore are more willing to see it through. "
   ]
  },
  {
   "cell_type": "code",
   "execution_count": 27,
   "metadata": {
    "collapsed": true
   },
   "outputs": [],
   "source": [
    "import random\n",
    "cards = list(range(52))\n",
    "\n",
    "# Map set of cards to integers. Define map as Clubs: 0, Diamonds: 1, Hearts: 2, Spades: 3.\n",
    "def Set(card):\n",
    "    if card <= 12:\n",
    "        return 0\n",
    "    elif card <= 25:\n",
    "        return 1\n",
    "    elif card <= 38:\n",
    "        return 2\n",
    "    else:\n",
    "        return 3\n",
    "\n",
    "# Maps the cards to numbers 0 - 12, where 0 is 1,..., 11 is King, 12 is Ace\n",
    "def Number(card):\n",
    "    return card % 13"
   ]
  },
  {
   "cell_type": "code",
   "execution_count": 28,
   "metadata": {
    "collapsed": true
   },
   "outputs": [],
   "source": [
    "def RoyalFlush(cards):\n",
    "    \n",
    "    numbers = []\n",
    "    for card in cards:\n",
    "        numbers += [Number(card)]\n",
    "    set_numbers = set(numbers)\n",
    "    #print(set_numbers)\n",
    "    #print(len(set_numbers))\n",
    "    #print(max(set_numbers))\n",
    "    #print(min(set_numbers))\n",
    "    if len(set_numbers) == 5 and max(set_numbers) == 12 and min(set_numbers) == 8:\n",
    "        #print(\"I was here!!!\")\n",
    "        if Flush(cards):\n",
    "            return True\n",
    "    return False"
   ]
  },
  {
   "cell_type": "code",
   "execution_count": 29,
   "metadata": {
    "collapsed": true
   },
   "outputs": [],
   "source": [
    "def Straight(cards):\n",
    "    number_cards = [Number(card) for card in cards]\n",
    "    set_cards = set(number_cards)\n",
    "    straights = [{0,1,2,3,4}, {1,2,3,4,5}, {2,3,4,5,6}, {3,4,5,6,7}, {4,5,6,7,8}, {5,6,7,8,9}, {6,7,8,9,10}, {7,8,9,10,11}\n",
    "                , {8,9,10,11,12}]\n",
    "    if len(set_cards) == 5 and set_cards in straights:\n",
    "        return True, set_cards\n",
    "    return False, set_cards\n",
    "        \n",
    "        "
   ]
  },
  {
   "cell_type": "code",
   "execution_count": 30,
   "metadata": {
    "collapsed": true
   },
   "outputs": [],
   "source": [
    "def StraightFlush(cards):\n",
    "    return Straight(cards)[0] and Flush(cards)"
   ]
  },
  {
   "cell_type": "code",
   "execution_count": 34,
   "metadata": {
    "collapsed": true
   },
   "outputs": [],
   "source": [
    "def Flush(cards):\n",
    "    sets = [0,0,0,0]\n",
    "    for card in cards:\n",
    "        sets[Set(card)] += 1\n",
    "        #print(sets)\n",
    "    return max(sets) == 5"
   ]
  },
  {
   "cell_type": "code",
   "execution_count": 35,
   "metadata": {
    "collapsed": true
   },
   "outputs": [],
   "source": [
    "def FourKind(cards):\n",
    "    numbers = [0 for i in range(13)]\n",
    "    for card in cards:\n",
    "        numbers[Number(card)] += 1\n",
    "    if 4 in numbers:\n",
    "        return True, cards\n",
    "    else:\n",
    "        return False, cards"
   ]
  },
  {
   "cell_type": "code",
   "execution_count": 36,
   "metadata": {
    "collapsed": true
   },
   "outputs": [],
   "source": [
    "def FullHouse(cards):\n",
    "    numbers = [0 for i in range(13)]\n",
    "    for card in cards:\n",
    "        numbers[Number(card)] += 1\n",
    "    if 3 in numbers and 2 in numbers:\n",
    "        return True, cards\n",
    "    else:\n",
    "        return False, cards"
   ]
  },
  {
   "cell_type": "code",
   "execution_count": null,
   "metadata": {
    "collapsed": true
   },
   "outputs": [],
   "source": [
    "def ThreeKind(cards):\n",
    "    numbers = [0 for i in range(13)]\n",
    "    for card in cards:\n",
    "        numbers[Number(card)] += 1\n",
    "    if 3 in numbers:\n",
    "        return True, cards\n",
    "    else:\n",
    "        return False, cards"
   ]
  },
  {
   "cell_type": "code",
   "execution_count": 46,
   "metadata": {
    "collapsed": true
   },
   "outputs": [],
   "source": [
    "def TwoPair(cards):\n",
    "    numbers = [0 for i in range(13)]\n",
    "    for card in cards:\n",
    "        numbers[Number(card)] += 1\n",
    "    two_pairs = 0\n",
    "    for number in numbers:\n",
    "        if number == 2:\n",
    "            two_pairs += 1\n",
    "    return two_pairs == 2, cards"
   ]
  },
  {
   "cell_type": "code",
   "execution_count": 53,
   "metadata": {
    "collapsed": true
   },
   "outputs": [],
   "source": [
    "def Pair(cards):\n",
    "    numbers = [0 for i in range(13)]\n",
    "    for card in cards:\n",
    "        numbers[Number(card)] += 1\n",
    "    pairs = 0\n",
    "    for number in numbers:\n",
    "        if number == 2:\n",
    "            pairs += 1\n",
    "    return pairs == 1, cards"
   ]
  },
  {
   "cell_type": "code",
   "execution_count": 11,
   "metadata": {},
   "outputs": [
    {
     "data": {
      "text/plain": [
       "(0, 1, 2, 3, 4)"
      ]
     },
     "execution_count": 11,
     "metadata": {},
     "output_type": "execute_result"
    }
   ],
   "source": [
    "from itertools import combinations as comb\n",
    "c = list(comb(cards, 5))"
   ]
  },
  {
   "cell_type": "code",
   "execution_count": 13,
   "metadata": {},
   "outputs": [
    {
     "data": {
      "text/plain": [
       "2598960"
      ]
     },
     "execution_count": 13,
     "metadata": {},
     "output_type": "execute_result"
    }
   ],
   "source": [
    "len(c)"
   ]
  },
  {
   "cell_type": "code",
   "execution_count": 17,
   "metadata": {
    "collapsed": true
   },
   "outputs": [],
   "source": [
    "x = set([3,5,9,1,6,4,2])"
   ]
  },
  {
   "cell_type": "code",
   "execution_count": 23,
   "metadata": {},
   "outputs": [
    {
     "data": {
      "text/plain": [
       "True"
      ]
     },
     "execution_count": 23,
     "metadata": {},
     "output_type": "execute_result"
    }
   ],
   "source": [
    "True & True"
   ]
  }
 ],
 "metadata": {
  "kernelspec": {
   "display_name": "Python 3",
   "language": "python",
   "name": "python3"
  },
  "language_info": {
   "codemirror_mode": {
    "name": "ipython",
    "version": 3
   },
   "file_extension": ".py",
   "mimetype": "text/x-python",
   "name": "python",
   "nbconvert_exporter": "python",
   "pygments_lexer": "ipython3",
   "version": "3.6.1"
  }
 },
 "nbformat": 4,
 "nbformat_minor": 2
}
