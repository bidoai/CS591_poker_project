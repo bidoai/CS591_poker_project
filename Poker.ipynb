{
 "cells": [
  {
   "cell_type": "markdown",
   "metadata": {},
   "source": [
    "Rough breakdown of things I will need to do:\n",
    "\n",
    "Data structure for cards: 1D array: [1,2,3,4,5,6,...,50,51,52] \n",
    "for i in this array, use i // 13 (integer division) to get card set, i % 13 (mod) to get card number \n",
    "\n",
    "Need to write fumction that takes a players cards + cards on the board, and return the combination of five cards that gives the most value (Also say what cards, ex: a pair, or trips etc.)\n",
    "\n",
    "Write helper function to return all x (total cards on board) choose 5 combinations of cards\n",
    "Write helper functions to recognize pairs, two pairs, ..., royal flushes\n",
    "helper function to return highest score of 5 cards.\n",
    "(Think seperate cases for preflop)\n",
    "\n",
    "Need to write function that takes 5 cards (or 2) and the cards on the board, and calculate the probability that your opponent has better cards than you.\n",
    "\n",
    "After figuring out probabilities (hard part, need to think of all cases, test thoroughly) calculate expected value ( pot size x prob win). \n",
    "\n",
    "Think of different cases.\n",
    "\n",
    "You play first<br/>\n",
    "Calculate prob you win. If prob win is high (decide some threshold), bet for value ( maybe with some prob as well ) if prob win is very low, can choose to bluff. Else, check. <br/>\n",
    "You play second <br/>\n",
    "        2a) P1 checked to you <br/>\n",
    "Play according to how you would play first <br/>\n",
    "        2b) P1 bets/raises you<br/>\n",
    "Figure out the prob you win, and subsequently the expected value. If bet size < EV or prob win is high, choose to call. Also define mechanisms to raise back.\n",
    "Remember to take advantage of computers ability to play randomly.  "
   ]
  },
  {
   "cell_type": "code",
   "execution_count": 26,
   "metadata": {
    "collapsed": true
   },
   "outputs": [],
   "source": [
    "import random\n",
    "cards = list(range(52))\n",
    "\n",
    "# Map set of cards to integers. Define map as Clubs: 0, Diamonds: 1, Hearts: 2, Spades: 3.\n",
    "def Set(card):\n",
    "    if card <= 12:\n",
    "        return 0\n",
    "    elif card <= 25:\n",
    "        return 1\n",
    "    elif card <= 38:\n",
    "        return 2\n",
    "    else:\n",
    "        return 3\n",
    "\n",
    "# Maps the cards to numbers 0 - 12, where 0 is 1,..., 11 is King, 12 is Ace\n",
    "def Number(card):\n",
    "    return card % 13"
   ]
  },
  {
   "cell_type": "code",
   "execution_count": 62,
   "metadata": {},
   "outputs": [],
   "source": [
    "def RoyalFlush(cards):\n",
    "    \n",
    "    numbers = []\n",
    "    for card in cards:\n",
    "        numbers += [Number(card)]\n",
    "    set_numbers = set(numbers)\n",
    "    #print(set_numbers)\n",
    "    #print(len(set_numbers))\n",
    "    #print(max(set_numbers))\n",
    "    #print(min(set_numbers))\n",
    "    if len(set_numbers) == 5 and max(set_numbers) == 12 and min(set_numbers) == 8:\n",
    "        #print(\"I was here!!!\")\n",
    "        if Flush(cards):\n",
    "            return True\n",
    "    return False"
   ]
  },
  {
   "cell_type": "code",
   "execution_count": null,
   "metadata": {
    "collapsed": true
   },
   "outputs": [],
   "source": [
    "def Straight(cards):"
   ]
  },
  {
   "cell_type": "code",
   "execution_count": 67,
   "metadata": {
    "collapsed": true
   },
   "outputs": [],
   "source": [
    "def Flush(cards):\n",
    "    sets = [0,0,0,0]\n",
    "    for card in cards:\n",
    "        sets[Set(card)] += 1\n",
    "        #print(sets)\n",
    "    return max(sets) == 5"
   ]
  },
  {
   "cell_type": "code",
   "execution_count": 69,
   "metadata": {},
   "outputs": [
    {
     "data": {
      "text/plain": [
       "False"
      ]
     },
     "execution_count": 69,
     "metadata": {},
     "output_type": "execute_result"
    }
   ],
   "source": [
    "RoyalFlush([51,50,49,48,8])"
   ]
  },
  {
   "cell_type": "code",
   "execution_count": 11,
   "metadata": {},
   "outputs": [
    {
     "data": {
      "text/plain": [
       "(0, 1, 2, 3, 4)"
      ]
     },
     "execution_count": 11,
     "metadata": {},
     "output_type": "execute_result"
    }
   ],
   "source": [
    "from itertools import combinations as comb\n",
    "c = list(comb(cards, 5))"
   ]
  },
  {
   "cell_type": "code",
   "execution_count": 13,
   "metadata": {},
   "outputs": [
    {
     "data": {
      "text/plain": [
       "2598960"
      ]
     },
     "execution_count": 13,
     "metadata": {},
     "output_type": "execute_result"
    }
   ],
   "source": [
    "len(c)"
   ]
  },
  {
   "cell_type": "code",
   "execution_count": 17,
   "metadata": {},
   "outputs": [],
   "source": [
    "x = set([3,5,9,1,6,4,2])"
   ]
  },
  {
   "cell_type": "code",
   "execution_count": 23,
   "metadata": {},
   "outputs": [
    {
     "data": {
      "text/plain": [
       "True"
      ]
     },
     "execution_count": 23,
     "metadata": {},
     "output_type": "execute_result"
    }
   ],
   "source": [
    "True & True"
   ]
  }
 ],
 "metadata": {
  "kernelspec": {
   "display_name": "Python 3",
   "language": "python",
   "name": "python3"
  },
  "language_info": {
   "codemirror_mode": {
    "name": "ipython",
    "version": 3
   },
   "file_extension": ".py",
   "mimetype": "text/x-python",
   "name": "python",
   "nbconvert_exporter": "python",
   "pygments_lexer": "ipython3",
   "version": "3.6.1"
  }
 },
 "nbformat": 4,
 "nbformat_minor": 2
}
